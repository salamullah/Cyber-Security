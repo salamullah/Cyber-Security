{
  "nbformat": 4,
  "nbformat_minor": 0,
  "metadata": {
    "colab": {
      "name": "Detecting Malicious URLs using Machine Learning.ipynb",
      "provenance": [],
      "authorship_tag": "ABX9TyNDdQaTu+Lx0ofyyOLm4+ak",
      "include_colab_link": true
    },
    "kernelspec": {
      "name": "python3",
      "display_name": "Python 3"
    },
    "language_info": {
      "name": "python"
    }
  },
  "cells": [
    {
      "cell_type": "markdown",
      "metadata": {
        "id": "view-in-github",
        "colab_type": "text"
      },
      "source": [
        "<a href=\"https://colab.research.google.com/github/salamullah/Cyber-Security/blob/master/Detecting_Malicious_URLs_using_Machine_Learning.ipynb\" target=\"_parent\"><img src=\"https://colab.research.google.com/assets/colab-badge.svg\" alt=\"Open In Colab\"/></a>"
      ]
    },
    {
      "cell_type": "markdown",
      "source": [
        "#Detecting Malicious URLs using Machine Learning"
      ],
      "metadata": {
        "id": "tWcZaFZiQRVM"
      }
    },
    {
      "cell_type": "code",
      "source": [
        ""
      ],
      "metadata": {
        "id": "YWyux4lxQaLn"
      },
      "execution_count": null,
      "outputs": []
    }
  ]
}